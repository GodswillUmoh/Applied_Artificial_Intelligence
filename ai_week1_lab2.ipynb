{
 "cells": [
  {
   "cell_type": "markdown",
   "metadata": {},
   "source": [
    "<h1>PYTHON ENVIRONMENT & PROJECTS</h1>"
   ]
  },
  {
   "cell_type": "markdown",
   "metadata": {},
   "source": [
    "<h3>Introduction to Building projects</h3>\n",
    "To Build project, we must first decide on what we need to build.\n",
    "<h5>Here, we want to Code for images Display</h5>\n",
    "<h4>Steps</h4>\n",
    "<ol>\n",
    "<li>Create a Folder</li>\n",
    "<li>Open The Folder with VsCode</li>\n",
    "<li>Set up your python Environment</li>\n",
    "<li>Add the image to be use in the working directory</li>\n",
    "<li>pip install opencv-python</li>\n",
    "<li>Write the codes</li>\n",
    "<li>Run the program</li>\n",
    "<li>Confirm if Desired result is met</li>\n",
    "</ol>"
   ]
  },
  {
   "cell_type": "markdown",
   "metadata": {},
   "source": [
    "<h2>Practical Exercises</h2>"
   ]
  },
  {
   "cell_type": "markdown",
   "metadata": {},
   "source": [
    "<h2>(a) Learning to import and display images</h2>\n",
    "Below are some codes on how to display images"
   ]
  },
  {
   "cell_type": "code",
   "execution_count": 3,
   "metadata": {},
   "outputs": [],
   "source": [
    "import cv2\n",
    "\n",
    "image = cv2.imread('man_dog.jpg', 1)\n",
    "\n",
    "#to display\n",
    "cv2.imshow('My friend', image)\n",
    "cv2.waitKey(0)\n",
    "cv2.destroyAllWindows()"
   ]
  },
  {
   "cell_type": "code",
   "execution_count": 3,
   "metadata": {},
   "outputs": [],
   "source": [
    "import cv2\n",
    "\n",
    "#importing images\n",
    "img = cv2.imread('oneman.jfif', 1)\n",
    "\n",
    "#alternative to cv2 show\n",
    "cv2.imshow('Godswill', img)\n",
    "cv2.waitKey(0)\n",
    "cv2.destroyAllWindows()"
   ]
  },
  {
   "cell_type": "markdown",
   "metadata": {},
   "source": [
    "<h3>Exercises:</h3> \n",
    "(i) Import an image and display it via python code"
   ]
  },
  {
   "cell_type": "code",
   "execution_count": 1,
   "metadata": {},
   "outputs": [],
   "source": [
    "import cv2\n",
    "import numpy as np\n",
    "\n",
    "\n",
    "img = cv2.imread('oneman.jfif', 1)\n",
    "cv2.rectangle(img, (200, 200), (400, 400), (0,255,0), 4)\n",
    "\n",
    "#alternative to cv2 show\n",
    "cv2.imshow('image', img)\n",
    "cv2.waitKey(0)\n",
    "cv2.destroyAllWindows()"
   ]
  },
  {
   "cell_type": "markdown",
   "metadata": {},
   "source": [
    "<h2>Capturing Image using Webcam</h2>"
   ]
  },
  {
   "cell_type": "code",
   "execution_count": 2,
   "metadata": {},
   "outputs": [],
   "source": [
    "# capturing image from webcam\n",
    "import cv2\n",
    "\n",
    "cam = cv2.VideoCapture(0)\n",
    "_,frame = cam.read()\n",
    "\n",
    "#convert BGR to RGB\n",
    "img = cv2.cvtColor(frame, cv2.COLOR_BGR2RGB)\n",
    "\n",
    "#Display\n",
    "cv2.imshow('Webcam Image', img)\n",
    "cv2.waitKey(0)\n",
    "cv2.destroyAllWindows()"
   ]
  },
  {
   "cell_type": "markdown",
   "metadata": {},
   "source": [
    "<h2>Exercises</h2>\n",
    "Capture an image via your webcam using python code<br>\n",
    "More practices"
   ]
  },
  {
   "cell_type": "code",
   "execution_count": 4,
   "metadata": {},
   "outputs": [
    {
     "name": "stdout",
     "output_type": "stream",
     "text": [
      "It takes  consistency to grow\n"
     ]
    }
   ],
   "source": [
    "#Find the Output:\n",
    "word = 'consistency'\n",
    "word_2 = 'to grow'\n",
    "composition = word + ' ' + word_2\n",
    "print(\"It takes \", composition)"
   ]
  }
 ],
 "metadata": {
  "kernelspec": {
   "display_name": "myvenv",
   "language": "python",
   "name": "python3"
  },
  "language_info": {
   "codemirror_mode": {
    "name": "ipython",
    "version": 3
   },
   "file_extension": ".py",
   "mimetype": "text/x-python",
   "name": "python",
   "nbconvert_exporter": "python",
   "pygments_lexer": "ipython3",
   "version": "3.11.4"
  }
 },
 "nbformat": 4,
 "nbformat_minor": 2
}
