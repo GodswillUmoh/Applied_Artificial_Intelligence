{
 "cells": [
  {
   "cell_type": "markdown",
   "metadata": {},
   "source": [
    "<h1>INTRODUCTION TO PYTHON ENVIRONMENT & PROJECTS</h1><h4>House of Heroz</h4>"
   ]
  },
  {
   "cell_type": "markdown",
   "metadata": {},
   "source": [
    "<ul>\n",
    "<li>IDE Installation- Anaconda</li>\n",
    "<li>Jupyter Vs VsCode</li>\n",
    "<li>Directories on Terminals</li>\n",
    "<li>Setting Up Python Programming Environment</li>\n",
    "<li>Introduction to Building projects using Python- AI Code Generator</li>\n",
    "<li>Face detetion on Images</li>\n",
    "</ul>"
   ]
  },
  {
   "cell_type": "markdown",
   "metadata": {},
   "source": [
    "<h2>IDE Installation- Anaconda</h2>\n",
    "Using online links\n",
    "<h4>How to Install Dependencies</h4>\n",
    "<ul>\n",
    "<li>Open a New Terminal</li>\n",
    "<li>Type: pip install (name of dependency you need)</li>\n",
    "\n",
    "</ul>"
   ]
  },
  {
   "cell_type": "markdown",
   "metadata": {},
   "source": [
    "<h3>Jupyter Notebook Versus VsCode</h3>\n",
    "Merit: \n",
    "For line by line code execution, Jupyter Notebook is preferred,\n",
    "whereas Vscode is good for a more robust coding. "
   ]
  },
  {
   "cell_type": "markdown",
   "metadata": {},
   "source": [
    "<h2>Directories</h2>\n",
    "What is Directories?<br>\n",
    "On many computers, directories are known as folders. \n",
    "The two types are Absolute and Relative path<br>\n",
    "\n",
    "Absolute paths always start with the root directory and provide the full path to the file or directory. \n",
    "<br> Example of absolute path to my file on my system:\n",
    "file:///C:/Users/KGL/Desktop/machine%20learn%20doc/machine%20learning%20course.pdf \n",
    "\n",
    "On the other hand, a relative path is a path to a file or directory <br>that is relative to the current working directory. That is in the current folder. \n",
    "\n",
    "This is important to linking files, images to your work. for this document,<br> the relative path is the current folder we are in"
   ]
  },
  {
   "cell_type": "markdown",
   "metadata": {},
   "source": [
    "<h2>Setting Up Python Programming Environment</h2>\n",
    "<h4>Steps to setting up a python environment for coding</h4>\n",
    "<ol>\n",
    "<li>Open a New Terminal in your VsCode</li>\n",
    "<li>Type On the Terminal:<br>python -m venv myvenv</li>\n",
    "<li>Activate the Scripts:<br>myvenv\\Scripts\\activate</li>\n",
    "<li>Confirm the environment is activated</li>\n",
    "<li>Run a program to Test</li>\n",
    "</ol>"
   ]
  },
  {
   "cell_type": "markdown",
   "metadata": {},
   "source": [
    "<h1>Steps</h1>\n",
    "<ul>\n",
    "\n",
    "<li>1. To create environment: python -m venv myvenv</li>\n",
    "<li>2. To activate: myvenv\\Scripts\\activate</li>\n",
    "<li>3. To confirm active environment: open a command promt</li>\n",
    "<ul>"
   ]
  },
  {
   "cell_type": "markdown",
   "metadata": {},
   "source": [
    "<h3>Exercises</h3><br>\n",
    "1. write and print the following words:<br>\n",
    "a. Welcome to my page<br>\n",
    "b. The sum of 4 and 6 is 10<br>\n",
    "c. x = 10, use print function to display the value of x <br>\n",
    "d. y = 2.5, use the print function to dsiplay the value of y <br>\n",
    "e. print the result of z if z = x + y"
   ]
  },
  {
   "cell_type": "markdown",
   "metadata": {},
   "source": [
    "<h2>Using the input() function</h2>"
   ]
  },
  {
   "cell_type": "code",
   "execution_count": 1,
   "metadata": {},
   "outputs": [
    {
     "name": "stdout",
     "output_type": "stream",
     "text": [
      "6\n"
     ]
    }
   ],
   "source": [
    "#What data type is the variable: name\n",
    "name = '1234'\n",
    "type(name)\n",
    "\n",
    "#prompt user to insert value for x \n",
    "x = input('number')\n",
    "type(x)\n",
    "print(x)"
   ]
  },
  {
   "cell_type": "code",
   "execution_count": 4,
   "metadata": {},
   "outputs": [
    {
     "name": "stdout",
     "output_type": "stream",
     "text": [
      "Your profit is  10000.900000000001\n"
     ]
    }
   ],
   "source": [
    "#to calulate the profit for a user\n",
    "cost_price = float(input(\"Cost price: \"))\n",
    "selling_price = float(input('Selling price: '))\n",
    "profit = selling_price - cost_price\n",
    "print('Your profit is ', profit"
   ]
  },
  {
   "cell_type": "code",
   "execution_count": null,
   "metadata": {},
   "outputs": [],
   "source": [
    "amount = float(input('Total Amount: '))\n",
    "if amount == 10000:\n",
    "  discount = 0.2 *amount\n",
    "  print(\"You have a discount of \", discount)\n",
    "\n",
    "else:\n",
    "  print('You are not qualified for a discount')"
   ]
  },
  {
   "cell_type": "markdown",
   "metadata": {},
   "source": [
    "<h2>Exercises</h2>\n",
    "write a program to prompt the user to suppy first and surname, display the full names using the print function<br>\n",
    "More practices"
   ]
  }
 ],
 "metadata": {
  "kernelspec": {
   "display_name": "Python 3 (ipykernel)",
   "language": "python",
   "name": "python3"
  },
  "language_info": {
   "codemirror_mode": {
    "name": "ipython",
    "version": 3
   },
   "file_extension": ".py",
   "mimetype": "text/x-python",
   "name": "python",
   "nbconvert_exporter": "python",
   "pygments_lexer": "ipython3",
   "version": "3.11.4"
  }
 },
 "nbformat": 4,
 "nbformat_minor": 2
}
