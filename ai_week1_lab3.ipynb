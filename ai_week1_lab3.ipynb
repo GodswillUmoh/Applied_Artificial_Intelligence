{
 "cells": [
  {
   "cell_type": "markdown",
   "metadata": {},
   "source": [
    "<h1>INTRODUCTION TO BUILDING PROJECTS- OPEN_AI</h1><h4>House of Heroz - Week1_Lab3</h4>"
   ]
  },
  {
   "cell_type": "markdown",
   "metadata": {},
   "source": [
    "<h3>Introduction to Building projects using Python- AI Code Generator</h3>\n",
    "To Build project, we must first decide on what we need to build.\n",
    "<h5>Here, we want to Code for human Face Detection in images</h5>\n",
    "<h4>Similar Steps</h4>\n",
    "<ol>\n",
    "<li>Create a Folder</li>\n",
    "<li>Open The Folder with VsCode</li>\n",
    "<li>Set up your python Environment</li>\n",
    "<li>Add the image to be use in the working directory</li>\n",
    "<li>pip install opencv-python</li>\n",
    "<li>Generate the code using AI</li>\n",
    "<li>Edit where necessary</li>pip install opencv-python\n",
    "<li>Run the program</li>\n",
    "<li>Confirm if Desired result is met</li>\n",
    "</ol>"
   ]
  },
  {
   "cell_type": "markdown",
   "metadata": {},
   "source": [
    "<h2>Practical Exercises</h2>"
   ]
  },
  {
   "cell_type": "markdown",
   "metadata": {},
   "source": [
    "<h2>Learning to Generate and use OpenAI codes</h2>\n",
    "<h3>Steps:</h3>\n",
    "<ul>\n",
    "<li>Prepare the python environment</li>\n",
    "<li>Visit the OpenAI</li>\n",
    "</ul>"
   ]
  },
  {
   "cell_type": "markdown",
   "metadata": {},
   "source": [
    "<h3> (a) Using OpenAI to generate code for human face detection</h3>\n",
    "\n",
    "<h3>AI Code Generator- ChatGPT</h3>\n",
    "  (https://chat.openai.com/)<br>\n",
    "- Code on human face detection using opencv in python<br>\n",
    "- Copy code and paste<br>\n",
    "<h3>Project 1- Computer Vision</h3>\n",
    "Human face detection On images<br>\n",
    "Step1: First add the image to be analysed in the working directory<br>\n",
    "Step2: Generate the code<br>\n",
    "Step3: Copy code and paste<br>\n",
    "Step4: edit to add the image you added to the working directory\n",
    "\n"
   ]
  },
  {
   "cell_type": "code",
   "execution_count": 2,
   "metadata": {},
   "outputs": [],
   "source": [
    "import cv2\n",
    "\n",
    "# Load the pre-trained Haar Cascade face classifier\n",
    "face_cascade = cv2.CascadeClassifier(cv2.data.haarcascades + 'haarcascade_frontalface_default.xml')\n",
    "\n",
    "# Function to detect faces in an image\n",
    "def detect_faces(image_path):\n",
    "    # Read the input image\n",
    "    img = cv2.imread('manface.jfif')\n",
    "    \n",
    "    # Convert the image to grayscale\n",
    "    gray = cv2.cvtColor(img, cv2.COLOR_BGR2GRAY)\n",
    "    \n",
    "    # Detect faces in the image\n",
    "    faces = face_cascade.detectMultiScale(gray, scaleFactor=1.3, minNeighbors=5)\n",
    "    \n",
    "    # Draw rectangles around the faces\n",
    "    for (x, y, w, h) in faces:\n",
    "        cv2.rectangle(img, (x, y), (x+w, y+h), (255, 0, 0), 2)\n",
    "    \n",
    "    # Display the result\n",
    "    cv2.imshow('Detected Faces', img)\n",
    "    cv2.waitKey(0)\n",
    "    cv2.destroyAllWindows()\n",
    "\n",
    "# Example usage\n",
    "image_path = 'path/to/your/image.jpg'\n",
    "detect_faces(image_path)\n"
   ]
  },
  {
   "cell_type": "markdown",
   "metadata": {},
   "source": [
    "<h2>Exercises</h2>\n",
    "Use OpenAI to generate code to detect a human face on images<br>\n",
    "More practices"
   ]
  },
  {
   "cell_type": "markdown",
   "metadata": {},
   "source": [
    "<h2>Displaying images using Webcam</h2>"
   ]
  },
  {
   "cell_type": "code",
   "execution_count": 4,
   "metadata": {},
   "outputs": [],
   "source": [
    "# capturing image from webcam\n",
    "import cv2\n",
    "\n",
    "cam = cv2.VideoCapture(0)\n",
    "_,frame = cam.read()\n",
    "\n",
    "#convert BGR to RGB\n",
    "#img = cv2.cvtColor(frame, cv2.COLOR_BGR2RGB)\n",
    "\n",
    "#Display\n",
    "cv2.imshow('Webcam Image', frame)\n",
    "cv2.waitKey(0)\n",
    "cv2.destroyAllWindows()"
   ]
  },
  {
   "cell_type": "markdown",
   "metadata": {},
   "source": [
    "<h2>Exercises</h2>\n",
    "display a capture image using webcam in python code<br>\n",
    "More practices"
   ]
  }
 ],
 "metadata": {
  "kernelspec": {
   "display_name": "myvenv",
   "language": "python",
   "name": "python3"
  },
  "language_info": {
   "codemirror_mode": {
    "name": "ipython",
    "version": 3
   },
   "file_extension": ".py",
   "mimetype": "text/x-python",
   "name": "python",
   "nbconvert_exporter": "python",
   "pygments_lexer": "ipython3",
   "version": "3.11.4"
  }
 },
 "nbformat": 4,
 "nbformat_minor": 2
}
